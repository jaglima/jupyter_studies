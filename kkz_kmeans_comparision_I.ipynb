{
 "cells": [
  {
   "cell_type": "markdown",
   "metadata": {
    "deletable": true,
    "editable": true
   },
   "source": [
    "## A brief comparision between KKZ and K-Means methods - Part I"
   ]
  },
  {
   "cell_type": "markdown",
   "metadata": {
    "collapsed": true,
    "deletable": true,
    "editable": true
   },
   "source": [
    "Between clustering and segmentation unsupervised techniques, k-means algorithm has been extensively studied and applied in literature. The k-means main target is to define a set of k groups through maximizing the variability between groups and minimizing the variability within groups. \n",
    "\n",
    "Clustering techniques has been applyed in some weather and clima problems where k-means showns himself as the most popular tool. The standard issue in these studies is to select representative elements in an model's ensemble aiming to select just a small subset holding the the same properts of full set of models.\n",
    "\n",
    "According some studies [1], k-means shows some disadvantages when applied in this context. The k-means method tends to select members that are representative of high-density regions in climate space ignoring others, when a desirable outcome would be to produce a subset of members representing the spread of the possible outcomes without \"concentration\". \n",
    "\n",
    "For this case, the proposed solution was the KKZ method [2].  The method has been applied as a seeding method for k-means and is an interesting alternative for climate changes studies once it can recursively selects members that best span the spread of an ensemble rather than finding clusters that best characterize high-density.\n",
    "\n"
   ]
  },
  {
   "cell_type": "markdown",
   "metadata": {
    "deletable": true,
    "editable": true
   },
   "source": [
    "## The dataset"
   ]
  },
  {
   "cell_type": "markdown",
   "metadata": {
    "deletable": true,
    "editable": true
   },
   "source": [
    "Lets create an dataset for ilustrate the methods differences. Using python libraries numpy, scipy and skalearn. Our objective here is to create a data set with 200 random elements in the interval $[-1.0, \\dots, 1.0]$ as a dataset for elements representing, for example, temperature and preciptation measurements over a region,"
   ]
  },
  {
   "cell_type": "code",
   "execution_count": 6,
   "metadata": {
    "collapsed": false,
    "deletable": true,
    "editable": true
   },
   "outputs": [],
   "source": [
    "#!/usr/bin/env python2\n",
    "# -*- coding: utf-8 -*-\n",
    "\n",
    "import numpy as np\n",
    "import scipy, pylab\n",
    "import matplotlib.pyplot as plt\n",
    "from scipy.spatial.distance import cdist, pdist\n",
    "from sklearn.datasets import make_blobs\n",
    "   \n",
    "dim = 2\n",
    "nx = 150\n",
    "ny = 1\n",
    "metric = \"euclidean\"\n",
    "seed = 1\n",
    "k = 6\n",
    "sample_size = 200\n",
    "\n",
    "# This produces a numpy type from make_blobs\n",
    "data = np.array(make_blobs(n_samples=sample_size,\n",
    "                  n_features=dim,\n",
    "                  centers=4,\n",
    "                  cluster_std=1,\n",
    "                  center_box=(-1.0, 1.0),\n",
    "                  shuffle=True,\n",
    "                  random_state=seed)[0])  # For reproducibility"
   ]
  },
  {
   "cell_type": "code",
   "execution_count": 7,
   "metadata": {
    "collapsed": false,
    "deletable": true,
    "editable": true
   },
   "outputs": [
    {
     "data": {
      "text/plain": [
       "array([[-0.83661828,  0.81821277],\n",
       "       [-0.28918621, -0.03055216],\n",
       "       [-2.03843988, -2.57601137],\n",
       "       [-0.34480386, -1.13497598],\n",
       "       [ 0.14967896, -1.58155223],\n",
       "       [ 0.34697383,  0.14255615],\n",
       "       [-1.28326634,  0.67506468],\n",
       "       [-0.3401562 , -1.85991219],\n",
       "       [-1.11021828, -1.01269692]])"
      ]
     },
     "execution_count": 7,
     "metadata": {},
     "output_type": "execute_result"
    }
   ],
   "source": [
    "data[1:10]"
   ]
  },
  {
   "cell_type": "markdown",
   "metadata": {
    "deletable": true,
    "editable": true
   },
   "source": [
    "## KKZ algorithm"
   ]
  },
  {
   "cell_type": "markdown",
   "metadata": {
    "deletable": true,
    "editable": true
   },
   "source": [
    "The Katsavounidis–Kuo–Zhang (KKZ) algorithm shows interesting behaviour when compared with K-Means. Its application recursively selects members that best span the spread of an ensemble rather than finding clusters that best characterize high-density as K-means. It does that in a deterministic way by incrementally adding scenarios to the ones previously selected."
   ]
  },
  {
   "cell_type": "markdown",
   "metadata": {
    "deletable": true,
    "editable": true
   },
   "source": [
    "#### KKZ algorithm\n",
    "\n",
    "1. Select the case that lies closest to the data centroid $c = \\frac{1}{N} \\sum_{i=0}^{N} a_i$ as the first scenario.\n",
    "2. Select the case that lies farthest from the first scenario as the second scenario.\n",
    "3. To select the next scenario,\n",
    "\n",
    "    3.1 calculate distances from each remaining case to the previously selected scenarios;\n",
    "    \n",
    "    3.2 associate each remaining case with the minimum distance calculated in step 3(i);\n",
    "    \n",
    "    3.3 select the case with the maximum distance from step 3.2 as the next scenario.\n",
    "4. Repeat from step 3\n"
   ]
  },
  {
   "cell_type": "markdown",
   "metadata": {
    "deletable": true,
    "editable": true
   },
   "source": [
    "A possible Python implementation for former described algorithme is as follows:"
   ]
  },
  {
   "cell_type": "code",
   "execution_count": 68,
   "metadata": {
    "collapsed": false,
    "deletable": true,
    "editable": true
   },
   "outputs": [],
   "source": [
    "\n",
    "def kkz(data, k, metric = 'euclidian'):\n",
    "\n",
    "    # x is our data set\n",
    "    x = data\n",
    "    \n",
    "    # Centroids to be filled by kkz method. Dimension of k x 2 \n",
    "    cent = np.empty([k, 2], dtype=float)\n",
    "\n",
    "    # Step 0. Initialize \n",
    "    y = np.ndarray.mean(x, axis=0, keepdims=True)\n",
    "    dist = cdist( y, x, metric=metric )  # -> (nx, ny) distances\n",
    "    idx = dist.argmax()\n",
    "    cent[0] = np.matrix(x[idx], dtype=float)\n",
    "    x = np.delete(x, idx, axis=0)\n",
    "\n",
    "    # Gets the maximum distance elements for k elements\n",
    "    for i in range(1,k):\n",
    "        dist = cdist(x, cent, metric=metric ) # returns x and y distance by metric\n",
    "        idx = np.mean(dist, 1).argmax()\n",
    "        cent[i] = np.matrix(x[idx], dtype=float)\n",
    "        x = np.delete(x, idx, axis=0) # removes selected element from left points\n",
    "\n",
    "    # Plot all data labeled by kmeans method\n",
    "    plt.scatter(data[:,0], data[:,1], c=\"red\")\n",
    "    plt.title('KKZ centroids', fontsize=16)\n",
    "\n",
    "    # Plot all KKZ \"centroids\" labeled by its iteration order\n",
    "    plt.scatter(cent[:, 0], cent[:, 1], marker='o',\n",
    "                c=\"white\", alpha=1, s=200, edgecolor='k')\n",
    "    \n",
    "    # Labels the elements selectd as centroids \n",
    "    for i, c in enumerate(cent):\n",
    "        plt.scatter(c[0], c[1], marker='$%d$' % i, alpha=1, s=50, edgecolor='k')\n",
    "\n",
    "    # Shows a chart\n",
    "    plt.show()\n",
    "    \n",
    "    # Return centroids\n",
    "    return cent"
   ]
  },
  {
   "cell_type": "code",
   "execution_count": 69,
   "metadata": {
    "collapsed": false,
    "deletable": true,
    "editable": true,
    "scrolled": true
   },
   "outputs": [
    {
     "data": {
      "image/png": "[encoded data removed]",
      "text/plain": [
       "<matplotlib.figure.Figure at 0x7fbb85496050>"
      ]
     },
     "metadata": {},
     "output_type": "display_data"
    }
   ],
   "source": [
    "kkz_centroids = kkz(data, k, metric)"
   ]
  },
  {
   "cell_type": "markdown",
   "metadata": {
    "deletable": true,
    "editable": true
   },
   "source": [
    "## K-means algorithm"
   ]
  },
  {
   "cell_type": "markdown",
   "metadata": {
    "deletable": true,
    "editable": true
   },
   "source": [
    "As discussed in the introdution, K-means methods attempts to maximize the explained variance of an ensemble. It tends to select members that are representative of high-density regions. Furthermore, k-means cannot produce an ordered sequence of solutions, where a 6-member clustering recomendation  being  different to the 5-member clustering ones."
   ]
  },
  {
   "cell_type": "markdown",
   "metadata": {
    "deletable": true,
    "editable": true
   },
   "source": [
    "#### Straight K-Means\n",
    "1. Initial setting. Choose the number of clusters, $K$, and tentative centroids $c_1 c_2 \\dots c_K$, frequently referred to as seeds. Initial cluster lists $S_k$ is empty.\n",
    "\n",
    "2. Clusters update. Given $K$ centroids, determine clusters $S_{k0} (k = 1 \\dots K )$ with the Minimum Distance rule.\n",
    "\n",
    "3. Stop-condition. Check whether $S_0 = S$ . If yes, end with clustering $S = S_k , c = ( c_k )$. Otherwise, change $S$ for $S_0$.\n",
    "\n",
    "4. Centroids update. Given clusters $S_k$, calculate within cluster means $c_k ( k = 1 \\dots K)$ and go to Step 2."
   ]
  },
  {
   "cell_type": "code",
   "execution_count": 10,
   "metadata": {
    "collapsed": false,
    "deletable": true,
    "editable": true,
    "scrolled": true
   },
   "outputs": [],
   "source": [
    "import matplotlib.pyplot as plt\n",
    "import matplotlib.cm as cm\n",
    "import numpy as np\n",
    "from sklearn.cluster import KMeans\n",
    "\n",
    "def k_means(data, k):\n",
    "    \n",
    "    # Fitting data\n",
    "    y = KMeans(n_clusters=k, random_state=seed).fit(data)\n",
    "\n",
    "    # plotting\n",
    "    plt.scatter(data[:, 0], data[:, 1], c='red')\n",
    "    plt.title('K-means centroids', fontsize=16)\n",
    "   \n",
    "    # Draw white circles at cluster centers\n",
    "    centers = y.cluster_centers_\n",
    "    plt.scatter(centers[:, 0], centers[:, 1], marker='o',\n",
    "                c='white', alpha=1, s=200, edgecolor='k')\n",
    "    \n",
    "    # Labeling the clusters\n",
    "    for i, c in enumerate(centers):\n",
    "        plt.scatter(c[0], c[1], marker='$%d$' % i, alpha=1, s=50, edgecolor='k')\n",
    "    \n",
    "    # Show results\n",
    "    plt.show()\n",
    "\n",
    "    return centers"
   ]
  },
  {
   "cell_type": "code",
   "execution_count": 40,
   "metadata": {
    "collapsed": false,
    "deletable": true,
    "editable": true
   },
   "outputs": [
    {
     "data": {
      "image/png": "[encoded data removed]",
      "text/plain": [
       "<matplotlib.figure.Figure at 0x7fbb8506b0d0>"
      ]
     },
     "metadata": {},
     "output_type": "display_data"
    }
   ],
   "source": [
    "kmeans_centroids = k_means(data, k)"
   ]
  },
  {
   "cell_type": "markdown",
   "metadata": {
    "deletable": true,
    "editable": true
   },
   "source": [
    "## Discussion"
   ]
  },
  {
   "cell_type": "markdown",
   "metadata": {
    "deletable": true,
    "editable": true
   },
   "source": [
    "By the results from two plots we can see explicitly the different outcomes from both methods. \n"
   ]
  },
  {
   "cell_type": "markdown",
   "metadata": {
    "deletable": true,
    "editable": true
   },
   "source": [
    "While KKZ selects points which are more distant and covers better the spread of elements, K-Means select centroids aligned with more dense regions in the space. KKZ can represent the variability more then the density in some regions in the space. \n",
    "\n",
    "\n",
    "Once our aim is to select a good subset which represents the variability from the initial set, a good way to compare two methods is drawing the convex hull built by the centroids from both methods. It makes easy to compare how two methods catchs the variability while we increase K in each method. Lets plot the convex hull from two methods centroids"
   ]
  },
  {
   "cell_type": "code",
   "execution_count": 25,
   "metadata": {
    "collapsed": false,
    "deletable": true,
    "editable": true,
    "scrolled": true
   },
   "outputs": [],
   "source": [
    "from scipy.spatial import Delaunay\n",
    "from matplotlib.collections import PolyCollection, LineCollection\n",
    "import matplotlib.pyplot as plt\n",
    "from scipy.spatial import Delaunay\n",
    "\n",
    "def add_edge(i, j, edges, edge_points, hull):\n",
    "    \n",
    "    if (i, j) in edges or (j, i) in edges:\n",
    "        return\n",
    "    edges.add( (i, j) )\n",
    "    edge_points.append(hull.points[ [i, j] ])\n",
    "    \n",
    "    return edges, edge_points\n",
    "    \n",
    "\n",
    "def plot_in_hull(points, hull):\n",
    "\n",
    "    # Adjust types\n",
    "    hull = Delaunay(hull)\n",
    "    edges = set()\n",
    "    edge_points = []\n",
    "    \n",
    "    # plot triangulation\n",
    "    poly = PolyCollection(hull.points[hull.vertices], facecolors='w', edgecolors='b')\n",
    "    plt.clf()\n",
    "    plt.title('in hull')\n",
    "    plt.gca().add_collection(poly)\n",
    "    plt.plot(hull.points[:,0], hull.points[:,1], 'o')\n",
    "\n",
    "\n",
    "    for ia, ib in hull.convex_hull:\n",
    "        edges, edge_points = add_edge(ia, ib,  edges, edge_points, hull)\n",
    "\n",
    "    lines = LineCollection(edge_points, color='g')\n",
    "    plt.gca().add_collection(lines)\n",
    "\n",
    "    # plot tested points `p` - black are inside hull, red outside\n",
    "    inside = hull.find_simplex(points) >= 0\n",
    "    plt.plot(points[ inside,0],points[ inside,1],'.k')\n",
    "    plt.plot(points[~inside,0],points[~inside,1],'.r')\n",
    "    plt.show()"
   ]
  },
  {
   "cell_type": "code",
   "execution_count": 41,
   "metadata": {
    "collapsed": false,
    "deletable": true,
    "editable": true,
    "scrolled": true
   },
   "outputs": [
    {
     "data": {
      "image/png": "[encoded data removed]",
      "text/plain": [
       "<matplotlib.figure.Figure at 0x7fbb8516fc10>"
      ]
     },
     "metadata": {},
     "output_type": "display_data"
    }
   ],
   "source": [
    "plot_in_hull(data, kmeans_centroids)"
   ]
  },
  {
   "cell_type": "code",
   "execution_count": 42,
   "metadata": {
    "collapsed": false,
    "deletable": true,
    "editable": true,
    "scrolled": true
   },
   "outputs": [
    {
     "data": {
      "image/png": "[encoded data removed]",
      "text/plain": [
       "<matplotlib.figure.Figure at 0x7fbb851292d0>"
      ]
     },
     "metadata": {},
     "output_type": "display_data"
    }
   ],
   "source": [
    "plot_in_hull(data, kkz_centroids)"
   ]
  },
  {
   "cell_type": "markdown",
   "metadata": {
    "deletable": true,
    "editable": true
   },
   "source": [
    "The K-Means method covers 117 points from same 200 points from data set while the KKZ method cover 192 points from 200 available.\n",
    "This means that working with just 5 elements it is possible replicates the variance of 200 elements mantaining same spread.  "
   ]
  },
  {
   "cell_type": "markdown",
   "metadata": {
    "deletable": true,
    "editable": true
   },
   "source": [
    "## Conclusions"
   ]
  },
  {
   "cell_type": "markdown",
   "metadata": {
    "deletable": true,
    "editable": true
   },
   "source": [
    "In this study two methods about to choose representative elements over a dataset were analysed. As figures visualy shows, while K-mean methods concentrate its centroids over more dense regions, KKZ in opposite, goes to extremes in the distributions. \n",
    "\n",
    "The KKZ characteristics are desirable when selecting elements which are most representatives in the total spread of values in a dataset. This kind of requirement arises in clima and weather studies where its necessary to select extreme elements in datasets where dense regions in subspace of solutions can create a bias in any extreme scenario. \n",
    "\n",
    "In next study this efficience in select a minimal subset of members which covers in the dataset spread in an optimal way will be analysed."
   ]
  }
 ],
 "metadata": {
  "kernelspec": {
   "display_name": "Python 2",
   "language": "python",
   "name": "python2"
  },
  "language_info": {
   "codemirror_mode": {
    "name": "ipython",
    "version": 2
   },
   "file_extension": ".py",
   "mimetype": "text/x-python",
   "name": "python",
   "nbconvert_exporter": "python",
   "pygments_lexer": "ipython2",
   "version": "2.7.13"
  }
 },
 "nbformat": 4,
 "nbformat_minor": 2
}
