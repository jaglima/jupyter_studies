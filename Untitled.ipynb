{
 "cells": [
  {
   "cell_type": "markdown",
   "metadata": {},
   "source": [
    "# A Climatology over Brazilian Northeast with Python"
   ]
  },
  {
   "cell_type": "markdown",
   "metadata": {},
   "source": [
    "Working with maps unver Pyhton, lets work with HDF4 files and maps."
   ]
  },
  {
   "cell_type": "code",
   "execution_count": 2,
   "metadata": {
    "collapsed": true
   },
   "outputs": [],
   "source": [
    "import datetime as dt \n",
    "import numpy as np\n",
    "import matplotlib.pyplot as plt\n",
    "from netCDF4 import Dataset\n",
    "from mpl_toolkits.basemap import Basemap, addcyclic, shiftgrid"
   ]
  },
  {
   "cell_type": "code",
   "execution_count": 12,
   "metadata": {
    "collapsed": true
   },
   "outputs": [],
   "source": [
    "def convertDateFormat(timeGmt):\n",
    "    d = (dt.datetime.fromtimestamp(timeGmt)\n",
    "    .strftime('%Y-%m-%d %H:%M:%S'))\n",
    "    print(d)\n",
    "    return d"
   ]
  },
  {
   "cell_type": "code",
   "execution_count": 5,
   "metadata": {},
   "outputs": [],
   "source": [
    "path = '/media/desplein/store/projetoMeteo/old/cdo/'\n",
    "\n",
    "ncFile = \"/media/desplein/store/projetoMeteo/old/nc/\"\n",
    "ncFid = Dataset(ncFile, 'r')  # Dataset open and creates a netCDF4 file\n",
    "                             \n",
    "# Extract data from NetCDF. It requires previous knowlegdment from variables name in netCDF\n",
    "lats = ncFid.variables['lat'][:] \n",
    "lons = ncFid.variables['lon'][:]\n",
    "time = ncFid.variables['time'][:]\n",
    "air = ncFid.variables['air'][:]"
   ]
  },
  {
   "cell_type": "code",
   "execution_count": 15,
   "metadata": {
    "collapsed": true
   },
   "outputs": [],
   "source": [
    "time_idx = 200 # some random day in 2012\n",
    "\n",
    "# Python and the renalaysis are slightly off in time so this fixes that problem\n",
    "offset = dt.timedelta(hours=48)\n",
    "\n",
    "# List of all times in the file as datetime objects\n",
    "dt_time = [dt.date(1800, 1, 1) + dt.timedelta(hours=t) for t in time]\n",
    "cur_time = dt_time[time_idx]"
   ]
  },
  {
   "cell_type": "code",
   "execution_count": 18,
   "metadata": {},
   "outputs": [],
   "source": [
    "# Plot of global temperature on our random day\n",
    "fig = plt.figure()\n",
    "fig.subplots_adjust(left=0., right=1., bottom=0., top=0.9)\n",
    "\n",
    "# Setup the map. See http://matplotlib.org/basemap/users/mapsetup.html\n",
    "# for other projections.\n",
    "m = Basemap(projection='moll', llcrnrlat=-9, urcrnrlat=39,\\\n",
    "            llcrnrlon=-35, urcrnrlon=-6, resolution='c', lon_0=0)\n",
    "m.drawcoastlines()\n",
    "m.drawmapboundary()\n",
    "\n",
    "# Make the plot continuous\n",
    "air_cyclic, lons_cyclic = addcyclic(air[time_idx, :, :], lons)\n",
    "\n",
    "# Shift the grid so lons go from -180 to 180 instead of 0 to 360.\n",
    "#air_cyclic, lons_cyclic = shiftgrid(180., air_cyclic, lons_cyclic, start=False)\n",
    "\n",
    "# Create 2D lat/lon arrays for Basemap\n",
    "lon2d, lat2d = np.meshgrid(lons_cyclic, lats)\n",
    "\n",
    "# Transforms lat/lon into plotting coordinates for projection\n",
    "x, y = m(lon2d, lat2d)\n",
    "\n"
   ]
  },
  {
   "cell_type": "code",
   "execution_count": 21,
   "metadata": {},
   "outputs": [
    {
     "name": "stderr",
     "output_type": "stream",
     "text": [
      "/home/desplein/miniconda2/envs/py27/lib/python2.7/site-packages/ipykernel_launcher.py:3: UserWarning: \n",
      "This call to matplotlib.use() has no effect because the backend has already\n",
      "been chosen; matplotlib.use() must be called *before* pylab, matplotlib.pyplot,\n",
      "or matplotlib.backends is imported for the first time.\n",
      "\n",
      "The backend was *originally* set to 'module://ipykernel.pylab.backend_inline' by the following code:\n",
      "  File \"/home/desplein/miniconda2/envs/py27/lib/python2.7/runpy.py\", line 174, in _run_module_as_main\n",
      "    \"__main__\", fname, loader, pkg_name)\n",
      "  File \"/home/desplein/miniconda2/envs/py27/lib/python2.7/runpy.py\", line 72, in _run_code\n",
      "    exec code in run_globals\n",
      "  File \"/home/desplein/miniconda2/envs/py27/lib/python2.7/site-packages/ipykernel_launcher.py\", line 16, in <module>\n",
      "    app.launch_new_instance()\n",
      "  File \"/home/desplein/miniconda2/envs/py27/lib/python2.7/site-packages/traitlets/config/application.py\", line 658, in launch_instance\n",
      "    app.start()\n",
      "  File \"/home/desplein/miniconda2/envs/py27/lib/python2.7/site-packages/ipykernel/kernelapp.py\", line 477, in start\n",
      "    ioloop.IOLoop.instance().start()\n",
      "  File \"/home/desplein/miniconda2/envs/py27/lib/python2.7/site-packages/zmq/eventloop/ioloop.py\", line 177, in start\n",
      "    super(ZMQIOLoop, self).start()\n",
      "  File \"/home/desplein/miniconda2/envs/py27/lib/python2.7/site-packages/tornado/ioloop.py\", line 888, in start\n",
      "    handler_func(fd_obj, events)\n",
      "  File \"/home/desplein/miniconda2/envs/py27/lib/python2.7/site-packages/tornado/stack_context.py\", line 277, in null_wrapper\n",
      "    return fn(*args, **kwargs)\n",
      "  File \"/home/desplein/miniconda2/envs/py27/lib/python2.7/site-packages/zmq/eventloop/zmqstream.py\", line 440, in _handle_events\n",
      "    self._handle_recv()\n",
      "  File \"/home/desplein/miniconda2/envs/py27/lib/python2.7/site-packages/zmq/eventloop/zmqstream.py\", line 472, in _handle_recv\n",
      "    self._run_callback(callback, msg)\n",
      "  File \"/home/desplein/miniconda2/envs/py27/lib/python2.7/site-packages/zmq/eventloop/zmqstream.py\", line 414, in _run_callback\n",
      "    callback(*args, **kwargs)\n",
      "  File \"/home/desplein/miniconda2/envs/py27/lib/python2.7/site-packages/tornado/stack_context.py\", line 277, in null_wrapper\n",
      "    return fn(*args, **kwargs)\n",
      "  File \"/home/desplein/miniconda2/envs/py27/lib/python2.7/site-packages/ipykernel/kernelbase.py\", line 283, in dispatcher\n",
      "    return self.dispatch_shell(stream, msg)\n",
      "  File \"/home/desplein/miniconda2/envs/py27/lib/python2.7/site-packages/ipykernel/kernelbase.py\", line 235, in dispatch_shell\n",
      "    handler(stream, idents, msg)\n",
      "  File \"/home/desplein/miniconda2/envs/py27/lib/python2.7/site-packages/ipykernel/kernelbase.py\", line 399, in execute_request\n",
      "    user_expressions, allow_stdin)\n",
      "  File \"/home/desplein/miniconda2/envs/py27/lib/python2.7/site-packages/ipykernel/ipkernel.py\", line 196, in do_execute\n",
      "    res = shell.run_cell(code, store_history=store_history, silent=silent)\n",
      "  File \"/home/desplein/miniconda2/envs/py27/lib/python2.7/site-packages/ipykernel/zmqshell.py\", line 533, in run_cell\n",
      "    return super(ZMQInteractiveShell, self).run_cell(*args, **kwargs)\n",
      "  File \"/home/desplein/miniconda2/envs/py27/lib/python2.7/site-packages/IPython/core/interactiveshell.py\", line 2718, in run_cell\n",
      "    interactivity=interactivity, compiler=compiler, result=result)\n",
      "  File \"/home/desplein/miniconda2/envs/py27/lib/python2.7/site-packages/IPython/core/interactiveshell.py\", line 2822, in run_ast_nodes\n",
      "    if self.run_code(code, result):\n",
      "  File \"/home/desplein/miniconda2/envs/py27/lib/python2.7/site-packages/IPython/core/interactiveshell.py\", line 2882, in run_code\n",
      "    exec(code_obj, self.user_global_ns, self.user_ns)\n",
      "  File \"<ipython-input-2-ad499a475a7a>\", line 3, in <module>\n",
      "    import matplotlib.pyplot as plt\n",
      "  File \"/home/desplein/miniconda2/envs/py27/lib/python2.7/site-packages/matplotlib/pyplot.py\", line 69, in <module>\n",
      "    from matplotlib.backends import pylab_setup\n",
      "  File \"/home/desplein/miniconda2/envs/py27/lib/python2.7/site-packages/matplotlib/backends/__init__.py\", line 14, in <module>\n",
      "    line for line in traceback.format_stack()\n",
      "\n",
      "\n",
      "  This is separate from the ipykernel package so we can avoid doing imports until\n"
     ]
    }
   ],
   "source": []
  }
 ],
 "metadata": {
  "kernelspec": {
   "display_name": "Python 2",
   "language": "python",
   "name": "python2"
  },
  "language_info": {
   "codemirror_mode": {
    "name": "ipython",
    "version": 2
   },
   "file_extension": ".py",
   "mimetype": "text/x-python",
   "name": "python",
   "nbconvert_exporter": "python",
   "pygments_lexer": "ipython2",
   "version": "2.7.14"
  }
 },
 "nbformat": 4,
 "nbformat_minor": 2
}
