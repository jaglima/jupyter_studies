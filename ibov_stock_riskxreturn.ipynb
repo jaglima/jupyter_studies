{
 "cells": [
  {
   "cell_type": "markdown",
   "metadata": {},
   "source": [
    "# Portfolio optimiztion Bovespa stocks"
   ]
  },
  {
   "cell_type": "markdown",
   "metadata": {},
   "source": [
    "This work implements a risk x return curve over a selected portfolio of Brazilian Stock Exchange BMF Bovespa.\n",
    "\n",
    "Optimal portfolios are normally computed using the portfolio risk measured in terms of its variance. However, performance risk is a problem if the portfolio does not perform well. This project involves using linear programming techniques to define and handle the “Value- At-Risk” risk metric.\n",
    "\n",
    "By evaluating historical prices to create future scenarios one can determine the “Value-At-Risk” of a specified portfolio. Using linear programming software to develop a returns model for the FTSE 100 one can, hence, calculate which stocks should be bought or sold in order to minimise the “Value-At-Risk” of a portfolio with an underlying required returns constraint. The developed tool will look at multi-period scenarios and seek to optimise the portfolio accordingly. \n",
    "\n",
    "This report documents the analysis of current ways of measuring single period “Value-At-Risk” and the formulation of a unique method of calculating multi-period “Value-At-Risk”. It goes on to describe an application which implements this model and highlights the results of exhaustive testing of the application. Ultimately, using back testing, this report demonstrates how the developed model would have, hypothetically, been able to make profits of up to 40% over the course of the past year while the FTSE 100 benchmark rose by only 27%."
   ]
  },
  {
   "cell_type": "markdown",
   "metadata": {},
   "source": [
    "## Data download"
   ]
  },
  {
   "cell_type": "markdown",
   "metadata": {},
   "source": [
    "## Methods"
   ]
  },
  {
   "cell_type": "markdown",
   "metadata": {},
   "source": [
    "Lets outline the theoretical aspects of the target. Basically we will use Brazilian Close Prices of Stock Market data from 1998 to 2005. "
   ]
  },
  {
   "cell_type": "markdown",
   "metadata": {},
   "source": [
    "### Efficient Frontier \n",
    "\n",
    "Markowitz's great insight was that the relevant information about securities can be summarized by three measures: the mean return (taken as the arithmetic mean), the standard deviation of the returns and the correlation with other assets' returns. The mean and the standard deviation can be used to plot the relative risk and return of any selection of securities.\n",
    "\n",
    "\n",
    "Typically, the answer to the investment problem is not the selection of one asset above all others, but the construction of a portfolio of assets, i.e. diversification across a number of different securities. The key to diversification is the correlation across securities. Recall from data analysis and statistics that the correlation coefficient is a value between -1 and 1, and measures the degree of co-movement between two random variables, in this case stock returns.\n",
    "\n",
    "The first efficient frontier was created by Harry Markowitz, using a handful of stocks from the New York Stock Exchange. Here it is, reproduced from his book Portfolio Selection Cowles Monograph 16, Yale University Press, 1959. It has a line going to the origin, because Markowitz was interested in the effects of combining risky assets with a riskless asset: cash.\n",
    "\n",
    "This is state-of-the-art portfolio selection technology, however it is still based upon Markowitz's original optimization program. There are some basic features to remember:\n",
    "\n",
    "    A minimum variance portfolio exists\n",
    "    A maximum return portfolio is composed of a single asset.\n",
    "    B,C,D & E are critical points at which one the set of assets used in the frontier changes, i.e. an asset drops out or comes in at these points.\n",
    "    There are no assets to the northwest of the frontier. That is why we call it a frontier. It is the edge of the feasible combinations of risk and returns. \n",
    "\n",
    "\n",
    "\n",
    "\n",
    "### Sharp Ratio\n",
    "\n",
    "The Modern Portfolio Theory says that to add an smartly picked asset to a portfolio can produce a decrease in the total portfolio risk without sacrifice return. Such diversification will serve to increase the Sharpe ratio of a portfolio.\n",
    "\n",
    "The Sharpe ratio definition is\n",
    "\n",
    "$sharp =  \\frac{\\bar{r_p} - r_f}{\\rho_p}$\n",
    "\n",
    "where $\\bar{r_p}$ is the mean portfolio return, $r_f$ is the risk-free rate and $\\rho_p$ is the standard deviation of portfolio returns.\n"
   ]
  },
  {
   "cell_type": "code",
   "execution_count": 3,
   "metadata": {},
   "outputs": [],
   "source": [
    "library(quadprog)\n",
    "library(quantmod)\n",
    "library(ggplot2)\n",
    "\n",
    "options(warn=-1)"
   ]
  },
  {
   "cell_type": "code",
   "execution_count": 4,
   "metadata": {
    "scrolled": false
   },
   "outputs": [
    {
     "name": "stderr",
     "output_type": "stream",
     "text": [
      "‘getSymbols’ currently uses auto.assign=TRUE by default, but will\n",
      "use auto.assign=FALSE in 0.5-0. You will still be able to use\n",
      "‘loadSymbols’ to automatically load data. getOption(\"getSymbols.env\")\n",
      "and getOption(\"getSymbols.auto.assign\") will still be checked for\n",
      "alternate defaults.\n",
      "\n",
      "This message is shown once per session and may be disabled by setting \n",
      "options(\"getSymbols.warning4.0\"=FALSE). See ?getSymbols for details.\n",
      "\n",
      "WARNING: There have been significant changes to Yahoo Finance data.\n",
      "Please see the Warning section of ‘?getSymbols.yahoo’ for details.\n",
      "\n",
      "This message is shown once per session and may be disabled by setting\n",
      "options(\"getSymbols.yahoo.warning\"=FALSE).\n",
      "pausing 1 second between requests for more than 5 symbols\n",
      "pausing 1 second between requests for more than 5 symbols\n"
     ]
    },
    {
     "data": {
      "text/html": [
       "<ol class=list-inline>\n",
       "\t<li>'VALE5.SA'</li>\n",
       "\t<li>'PETR4.SA'</li>\n",
       "\t<li>'ELET6.SA'</li>\n",
       "\t<li>'CSAN3.SA'</li>\n",
       "\t<li>'USIM5.SA'</li>\n",
       "\t<li>'LAME4.SA'</li>\n",
       "</ol>\n"
      ],
      "text/latex": [
       "\\begin{enumerate*}\n",
       "\\item 'VALE5.SA'\n",
       "\\item 'PETR4.SA'\n",
       "\\item 'ELET6.SA'\n",
       "\\item 'CSAN3.SA'\n",
       "\\item 'USIM5.SA'\n",
       "\\item 'LAME4.SA'\n",
       "\\end{enumerate*}\n"
      ],
      "text/markdown": [
       "1. 'VALE5.SA'\n",
       "2. 'PETR4.SA'\n",
       "3. 'ELET6.SA'\n",
       "4. 'CSAN3.SA'\n",
       "5. 'USIM5.SA'\n",
       "6. 'LAME4.SA'\n",
       "\n",
       "\n"
      ],
      "text/plain": [
       "[1] \"VALE5.SA\" \"PETR4.SA\" \"ELET6.SA\" \"CSAN3.SA\" \"USIM5.SA\" \"LAME4.SA\""
      ]
     },
     "metadata": {},
     "output_type": "display_data"
    }
   ],
   "source": [
    "# Here we need the folowing packages\n",
    "\n",
    "tickers = c('VALE5.SA', 'PETR4.SA', 'ELET6.SA','CSAN3.SA', 'USIM5.SA', 'LAME4.SA')\n",
    "# each new ticker add to list above demands a new execution of getSymbol function\n",
    "getSymbols(tickers);"
   ]
  },
  {
   "cell_type": "code",
   "execution_count": 6,
   "metadata": {},
   "outputs": [
    {
     "data": {
      "text/plain": [
       "           VALE5.SA.Close PETR4.SA.Close ELET6.SA.Close CSAN3.SA.Close\n",
       "2008-01-02          49.30         43.500        23.0208        18.5747\n",
       "2008-01-03          50.00         42.800        22.7711        18.8858\n",
       "2008-01-04          48.21         40.700        22.6213        18.8413\n",
       "2008-01-07          47.51         39.505        23.0208        19.9967\n",
       "2008-01-08          48.40         41.675        23.0707        20.9743\n",
       "2008-01-09          48.50         42.460        23.9496        22.2185\n",
       "           USIM5.SA.Close LAME4.SA.Close\n",
       "2008-01-02        26.6000        7.73121\n",
       "2008-01-03        26.9667        8.21217\n",
       "2008-01-04        26.1667        7.83354\n",
       "2008-01-07        24.9000        7.41398\n",
       "2008-01-08        25.7833        7.21443\n",
       "2008-01-09        26.5767        7.29118"
      ]
     },
     "metadata": {},
     "output_type": "display_data"
    }
   ],
   "source": [
    "# create an xts object, select only close prices and join\n",
    "closePrices = do.call(cbind, lapply(tickers,  function(x) Cl(get(x))));\n",
    "                                    \n",
    "# interpolate all missing data in .xts objetc\n",
    "closePrices = na.approx(closePrices)\n",
    "                                    \n",
    "# remove NA's. I dont know why na.rm=\"FALSE\" didnt works here\n",
    "closePrices = na.exclude(closePrices)\n",
    "                                    \n",
    "head(closePrices)"
   ]
  },
  {
   "cell_type": "code",
   "execution_count": 7,
   "metadata": {
    "scrolled": true
   },
   "outputs": [
    {
     "data": {
      "text/plain": [
       "              VALE5.SA    PETR4.SA    ELET6.SA    CSAN3.SA     USIM5.SA\n",
       "2008-01-31 -0.09188639 -0.07586205 -0.03340896  0.31531063  0.033834586\n",
       "2008-02-29  0.11369223  0.01305963  0.11310597  0.05129043  0.187879927\n",
       "2008-03-31  0.01865223 -0.09158991  0.01612936 -0.10034421  0.004080639\n",
       "2008-04-30  0.05512894  0.14069475  0.02381202  0.15000022  0.237195221\n",
       "2008-05-30  0.01436837  0.16113741  0.04650856 -0.14381295  0.078117246\n",
       "2008-06-30 -0.12251655 -0.05693880 -0.03518173  0.08203302 -0.097142857\n",
       "              LAME4.SA\n",
       "2008-01-31 -0.11647853\n",
       "2008-02-29  0.15355696\n",
       "2008-03-31 -0.15259677\n",
       "2008-04-30 -0.08812240\n",
       "2008-05-30  0.09663841\n",
       "2008-06-30 -0.19540256"
      ]
     },
     "metadata": {},
     "output_type": "display_data"
    }
   ],
   "source": [
    "# Compute daily returns over Close prices\n",
    "#returns = apply(closePrices['2008//2015'], 2, function(x) diff(log(x)))\n",
    "returns = do.call(cbind, lapply(seq(1,6),  function(x) monthlyReturn(closePrices[,x])))\n",
    "names(returns) = tickers\n",
    "head(returns)"
   ]
  },
  {
   "cell_type": "code",
   "execution_count": 124,
   "metadata": {},
   "outputs": [
    {
     "data": {
      "text/html": [
       "<dl class=dl-horizontal>\n",
       "\t<dt>VALE5.SA</dt>\n",
       "\t\t<dd>0.0127748269107453</dd>\n",
       "\t<dt>PETR4.SA</dt>\n",
       "\t\t<dd>0.0172418879869319</dd>\n",
       "\t<dt>ELET6.SA</dt>\n",
       "\t\t<dd>0.0137031495270946</dd>\n",
       "\t<dt>CSAN3.SA</dt>\n",
       "\t\t<dd>0.0122649992473058</dd>\n",
       "\t<dt>USIM5.SA</dt>\n",
       "\t\t<dd>0.0397489844320767</dd>\n",
       "\t<dt>LAME4.SA</dt>\n",
       "\t\t<dd>0.00966286655581644</dd>\n",
       "</dl>\n"
      ],
      "text/latex": [
       "\\begin{description*}\n",
       "\\item[VALE5.SA] 0.0127748269107453\n",
       "\\item[PETR4.SA] 0.0172418879869319\n",
       "\\item[ELET6.SA] 0.0137031495270946\n",
       "\\item[CSAN3.SA] 0.0122649992473058\n",
       "\\item[USIM5.SA] 0.0397489844320767\n",
       "\\item[LAME4.SA] 0.00966286655581644\n",
       "\\end{description*}\n"
      ],
      "text/markdown": [
       "VALE5.SA\n",
       ":   0.0127748269107453PETR4.SA\n",
       ":   0.0172418879869319ELET6.SA\n",
       ":   0.0137031495270946CSAN3.SA\n",
       ":   0.0122649992473058USIM5.SA\n",
       ":   0.0397489844320767LAME4.SA\n",
       ":   0.00966286655581644\n",
       "\n"
      ],
      "text/plain": [
       "   VALE5.SA    PETR4.SA    ELET6.SA    CSAN3.SA    USIM5.SA    LAME4.SA \n",
       "0.012774827 0.017241888 0.013703150 0.012264999 0.039748984 0.009662867 "
      ]
     },
     "metadata": {},
     "output_type": "display_data"
    },
    {
     "data": {
      "text/html": [
       "<dl class=dl-horizontal>\n",
       "\t<dt>VALE5.SA</dt>\n",
       "\t\t<dd>0.00234255958822046</dd>\n",
       "\t<dt>PETR4.SA</dt>\n",
       "\t\t<dd>0.000365210577135319</dd>\n",
       "\t<dt>ELET6.SA</dt>\n",
       "\t\t<dd>0.00678093297997811</dd>\n",
       "\t<dt>CSAN3.SA</dt>\n",
       "\t\t<dd>0.0122626900268432</dd>\n",
       "\t<dt>USIM5.SA</dt>\n",
       "\t\t<dd>0.00786041815878188</dd>\n",
       "\t<dt>LAME4.SA</dt>\n",
       "\t\t<dd>0.01081198777938</dd>\n",
       "</dl>\n"
      ],
      "text/latex": [
       "\\begin{description*}\n",
       "\\item[VALE5.SA] 0.00234255958822046\n",
       "\\item[PETR4.SA] 0.000365210577135319\n",
       "\\item[ELET6.SA] 0.00678093297997811\n",
       "\\item[CSAN3.SA] 0.0122626900268432\n",
       "\\item[USIM5.SA] 0.00786041815878188\n",
       "\\item[LAME4.SA] 0.01081198777938\n",
       "\\end{description*}\n"
      ],
      "text/markdown": [
       "VALE5.SA\n",
       ":   0.00234255958822046PETR4.SA\n",
       ":   0.000365210577135319ELET6.SA\n",
       ":   0.00678093297997811CSAN3.SA\n",
       ":   0.0122626900268432USIM5.SA\n",
       ":   0.00786041815878188LAME4.SA\n",
       ":   0.01081198777938\n",
       "\n"
      ],
      "text/plain": [
       "    VALE5.SA     PETR4.SA     ELET6.SA     CSAN3.SA     USIM5.SA     LAME4.SA \n",
       "0.0023425596 0.0003652106 0.0067809330 0.0122626900 0.0078604182 0.0108119878 "
      ]
     },
     "metadata": {},
     "output_type": "display_data"
    }
   ],
   "source": [
    "# calculate mean return for all months\n",
    "meanReturns = apply(returns, 2, mean, na.rm=\"FALSE\")\n",
    "\n",
    "# Calculate var over monthly returns for all months\n",
    "varReturns = apply(returns, 2, var, use=\"na.or.complete\")\n",
    "head(varReturns)\n",
    "head(meanReturns)"
   ]
  },
  {
   "cell_type": "code",
   "execution_count": 102,
   "metadata": {},
   "outputs": [],
   "source": [
    "eff.frontier = function (returns, short=\"no\", maxAllocation=NULL, riskPremiumUp=.5, riskIncrement=.005){\n",
    "  # return argument should be a m x n matrix with one column per security\n",
    "  # short argument is whether short-selling is allowed; default is no (short selling prohibited)\n",
    "  # maxAllocation is the maximum % allowed for any one security (reduces concentration)\n",
    "  # riskPremiumUp is the upper limit of the risk premium modeled (see for loop below)\n",
    "  # riskIncrement is the increment (by) value used in the for loop\n",
    "  \n",
    "  covariance = cov(returns)\n",
    "  print(covariance)\n",
    "  n = ncol(covariance)\n",
    "  \n",
    "  # Create initial Amat and bvec assuming only equality constraint (short-selling is allowed, no allocation constraints)\n",
    "  Amat = matrix (1, nrow=n)\n",
    "  bvec = 1\n",
    "  meq = 1\n",
    "  \n",
    "  # Then modify the Amat and bvec if short-selling is prohibited\n",
    "  if(short==\"no\"){\n",
    "    Amat = cbind(1, diag(n))\n",
    "    bvec = c(bvec, rep(0, n))\n",
    "  }\n",
    "  \n",
    "  # And modify Amat and bvec if a max allocation (concentration) is specified\n",
    "  if( !is.null(maxAllocation) ){\n",
    "    if(maxAllocation > 1 | maxAllocation <0){\n",
    "      stop(\"maxAllocation must be greater than 0 and less than 1\")\n",
    "    }\n",
    "    if(maxAllocation*n < 1){\n",
    "      stop(\"Need to set maxAllocation higher; not enough assets to add to 1\")\n",
    "    }\n",
    "    Amat = cbind(Amat, -diag(n))\n",
    "    bvec = c(bvec, rep(-maxAllocation, n))\n",
    "  }\n",
    "  \n",
    "  # Calculate the number of loops based on how high to vary the risk premium and by what increment\n",
    "  loops = riskPremiumUp / riskIncrement + 1\n",
    "  loop = 1\n",
    "  \n",
    "  # Initialize a matrix to contain allocation and statistics\n",
    "  # This is not necessary, but speeds up processing and uses less memory\n",
    "  eff = matrix(nrow=loops, ncol=n+3)\n",
    "  \n",
    "  # Now I need to give the matrix column names\n",
    "  colnames(eff) = c(colnames(returns), \"Std.Dev\", \"Exp.Return\", \"sharpe\")\n",
    "  \n",
    "  # Loop through the quadratic program solver\n",
    "  for (i in seq(from=0, to=riskPremiumUp, by=riskIncrement)){\n",
    "    dvec = colMeans(returns) * i # This moves the solution up along the efficient frontier\n",
    "    sol = solve.QP(covariance, dvec=dvec, Amat=Amat, bvec=bvec, meq=meq)\n",
    "    eff[loop,\"Std.Dev\"] = sqrt(sum(sol$solution *colSums((covariance * sol$solution)))) *100\n",
    "    eff[loop,\"Exp.Return\"] = as.numeric(sol$solution %*% colMeans(returns)) * 100\n",
    "    eff[loop,\"sharpe\"] = eff[loop,\"Exp.Return\"] / eff[loop,\"Std.Dev\"] * 100\n",
    "    eff[loop,1:n] = sol$solution\n",
    "    loop = loop+1\n",
    "  }\n",
    "  \n",
    "  return(as.data.frame(eff))  \n",
    "}"
   ]
  },
  {
   "cell_type": "code",
   "execution_count": 140,
   "metadata": {},
   "outputs": [
    {
     "name": "stdout",
     "output_type": "stream",
     "text": [
      "            VALE5.SA    PETR4.SA    ELET6.SA    CSAN3.SA    USIM5.SA\n",
      "VALE5.SA 0.012774827 0.009272974 0.004423699 0.003508652 0.014592106\n",
      "PETR4.SA 0.009272974 0.017241888 0.007024241 0.004816645 0.018246284\n",
      "ELET6.SA 0.004423699 0.007024241 0.013703150 0.003681153 0.008066251\n",
      "CSAN3.SA 0.003508652 0.004816645 0.003681153 0.012264999 0.007041064\n",
      "USIM5.SA 0.014592106 0.018246284 0.008066251 0.007041064 0.039748984\n",
      "LAME4.SA 0.002685004 0.003741155 0.003259846 0.005186674 0.006196971\n",
      "            LAME4.SA\n",
      "VALE5.SA 0.002685004\n",
      "PETR4.SA 0.003741155\n",
      "ELET6.SA 0.003259846\n",
      "CSAN3.SA 0.005186674\n",
      "USIM5.SA 0.006196971\n",
      "LAME4.SA 0.009662867\n"
     ]
    },
    {
     "data": {
      "image/png": "[encoded data removed]",
      "text/plain": [
       "Plot with title “Efficient Frontier”"
      ]
     },
     "metadata": {},
     "output_type": "display_data"
    }
   ],
   "source": [
    "eff = eff.frontier(returns=returns, short=\"no\", maxAllocation=0.5, riskPremiumUp=5.5, riskIncrement=.01);\n",
    "effOptimalPoint = eff[eff$sharpe==max(eff$sharpe),];\n",
    "\n",
    "options(repr.plot.width=7, repr.plot.height=4)\n",
    "\n",
    "plot(varReturns*100, meanReturns*100, type=\"p\", xlab=\"Risk\", ylab=\"Return\", \n",
    "     main=\"Efficient Frontier\", \n",
    "     bty=\"n\", cex=0.5, cex.axis=0.6, pch=19)\n",
    "\n",
    "\n",
    "points(effOptimalPoint$Std.Dev, effOptimalPoint$Exp.Return,  col=\"red\", pch=19)\n",
    "\n",
    "risk = round(effOptimalPoint$Std.Dev, digits=2)\n",
    "sharp = round(effOptimalPoint$sharpe, digits=2)\n",
    "expReturn = round(effOptimalPoint$Exp.Return, digits=2)\n",
    "\n",
    "text(geom=\"text\", x=effOptimalPoint$Std.Dev, y=effOptimalPoint$Exp.Return,\n",
    "           label=paste(\"Risk: \", risk ,\"\\nReturn: \", expReturn, \"%\\nSharpe: \", sharp, \"%\", sep=\"\"), pos=1, offset=2)"
   ]
  },
  {
   "cell_type": "code",
   "execution_count": 142,
   "metadata": {},
   "outputs": [
    {
     "name": "stdout",
     "output_type": "stream",
     "text": [
      "            VALE5.SA    PETR4.SA    ELET6.SA    CSAN3.SA    USIM5.SA\n",
      "VALE5.SA 0.012774827 0.009272974 0.004423699 0.003508652 0.014592106\n",
      "PETR4.SA 0.009272974 0.017241888 0.007024241 0.004816645 0.018246284\n",
      "ELET6.SA 0.004423699 0.007024241 0.013703150 0.003681153 0.008066251\n",
      "CSAN3.SA 0.003508652 0.004816645 0.003681153 0.012264999 0.007041064\n",
      "USIM5.SA 0.014592106 0.018246284 0.008066251 0.007041064 0.039748984\n",
      "LAME4.SA 0.002685004 0.003741155 0.003259846 0.005186674 0.006196971\n",
      "            LAME4.SA\n",
      "VALE5.SA 0.002685004\n",
      "PETR4.SA 0.003741155\n",
      "ELET6.SA 0.003259846\n",
      "CSAN3.SA 0.005186674\n",
      "USIM5.SA 0.006196971\n",
      "LAME4.SA 0.009662867\n"
     ]
    },
    {
     "data": {
      "image/png": "[encoded data removed]",
      "text/plain": [
       "Plot with title “Efficient Frontier”"
      ]
     },
     "metadata": {},
     "output_type": "display_data"
    }
   ],
   "source": [
    "eff = eff.frontier(returns=returns, short=\"no\", maxAllocation=0.5, riskPremiumUp=3, riskIncrement=.01);\n",
    "effOptimalPoint = eff[eff$sharpe==max(eff$sharpe),];\n",
    "\n",
    "options(repr.plot.width=7, repr.plot.height=4)\n",
    "\n",
    "\n",
    "plot(eff$Std.Dev, eff$Exp.Return, type=\"l\", xlab=\"Risk\", ylab=\"Return\", \n",
    "     main=\"Efficient Frontier\", \n",
    "     bty=\"n\", cex=0.5, cex.axis=0.6, pch=19)\n",
    "\n",
    "points(varReturns*100, meanReturns*100, type=\"p\", xlab=\"Risk\", ylab=\"Return\", \n",
    "     main=\"Efficient Frontier\", \n",
    "     bty=\"n\", cex=0.5, cex.axis=0.6, pch=19)\n",
    "\n",
    "points(effOptimalPoint$Std.Dev, effOptimalPoint$Exp.Return,  col=\"red\", pch=19)\n",
    "\n",
    "risk = round(effOptimalPoint$Std.Dev, digits=2)\n",
    "sharp = round(effOptimalPoint$sharpe, digits=2)\n",
    "expReturn = round(effOptimalPoint$Exp.Return, digits=2)\n",
    "\n",
    "text(geom=\"text\", x=effOptimalPoint$Std.Dev, y=effOptimalPoint$Exp.Return,\n",
    "           label=paste(\"Risk: \", risk ,\"\\nReturn: \", expReturn, \"%\\nSharpe: \", sharp, \"%\", sep=\"\"), pos=1, offset=2)"
   ]
  }
 ],
 "metadata": {
  "kernelspec": {
   "display_name": "R",
   "language": "R",
   "name": "ir"
  },
  "language_info": {
   "codemirror_mode": "r",
   "file_extension": ".r",
   "mimetype": "text/x-r-source",
   "name": "R",
   "pygments_lexer": "r",
   "version": "3.2.3"
  }
 },
 "nbformat": 4,
 "nbformat_minor": 2
}
