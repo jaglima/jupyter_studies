{
 "cells": [
  {
   "cell_type": "markdown",
   "metadata": {},
   "source": [
    "# Portfolio optimiztion Bovespa stocks"
   ]
  },
  {
   "cell_type": "markdown",
   "metadata": {},
   "source": [
    "This work implements a risk x return curve over a selected portfolio of Brazilian Stock Exchange BMF Bovespa.\n",
    "\n",
    "Optimal portfolios are normally computed using the portfolio risk measured in terms of its variance. However, performance risk is a problem if the portfolio does not perform well. This project involves using linear programming techniques to define and handle the “Value- At-Risk” risk metric.\n",
    "\n",
    "By evaluating historical prices to create future scenarios one can determine the “Value-At-Risk” of a specified portfolio. Using linear programming software to develop a returns model for the FTSE 100 one can, hence, calculate which stocks should be bought or sold in order to minimise the “Value-At-Risk” of a portfolio with an underlying required returns constraint. The developed tool will look at multi-period scenarios and seek to optimise the portfolio accordingly. \n",
    "\n",
    "This report documents the analysis of current ways of measuring single period “Value-At-Risk” and the formulation of a unique method of calculating multi-period “Value-At-Risk”. It goes on to describe an application which implements this model and highlights the results of exhaustive testing of the application. Ultimately, using back testing, this report demonstrates how the developed model would have, hypothetically, been able to make profits of up to 40% over the course of the past year while the FTSE 100 benchmark rose by only 27%."
   ]
  },
  {
   "cell_type": "markdown",
   "metadata": {},
   "source": [
    "## Introduction"
   ]
  },
  {
   "cell_type": "markdown",
   "metadata": {
    "collapsed": true
   },
   "source": [
    "VaR is a popular method which regulators use to assess risk. For example, the Basle\n",
    "Committee 1 has sanctioned institutions to use internal VaR models for capital requirements 2 .\n",
    "VaR is also used by institutions themselves. It is commonly used for self-regulation in the\n",
    "following manner:\n",
    " Benchmark Measure – To provide a company-wide yardstick to compare risks across\n",
    "different markets.\n",
    " Potential Loss Measure – To give a broad idea of the worst loss an institution can\n",
    "incur.\n",
    " Equity Capital – To set a capital cushion for the institution.\n",
    "When managed properly, VaR can provide a controlled way of getting high returns on ones\n",
    "investments.\n",
    "\n",
    "However, rather than just using VaR to measure the risk of institutions as a whole, it is also\n",
    "used by institutions in portfolio optimisation techniques to actively manage their risk. This is\n",
    "the focus of my project.\n",
    "Modern Portfolio Theory models the return of an asset as a random variable and a portfolio\n",
    "as a weighted combination of these assets 1 . This implies that the return of a portfolio is thus\n",
    "also a random variable and consequently has an expected value and a variance. Risk in this\n",
    "model is normally identified with the variance of portfolio return. However, for the purposes\n",
    "of my project, VaR will be used to define the risk of portfolios.\n",
    "The main problem with variance is that it does not take into consideration the direction of an\n",
    "investment's movement. An asset could be volatile because its price rises quickly, however\n",
    "investors are not distressed by gains!\n",
    "For investors, risk is about the odds of losing money, and VaR is based on that common-\n",
    "sense fact. By assuming that investors care about the odds of big losses, VaR can be used to\n",
    "answer the questions, \"What is my worst-case scenario?\" or \"How much could I lose in a\n",
    "really bad month?\"\n",
    "The VaR statistic has three components: a time period, a confidence level and a loss amount\n",
    "(or loss percentage). It can thus be used to answer question such as:\n",
    " What is the most I can (with a 95% or 99% level of confidence) expect to lose in\n",
    "pounds over the next month?\n",
    " What is the maximum percentage I can (with 95% or 99% confidence) expect to lose\n",
    "over the next year?\n",
    "Bearing this risk measure in mind, I aim to develop an application that will recommend\n",
    "rational investment decisions. Rationality is modelled by supposing that an investor choosing\n",
    "between several portfolios with identical expected returns, will prefer that portfolio which\n",
    "minimizes risk.\n",
    "\n"
   ]
  },
  {
   "cell_type": "markdown",
   "metadata": {},
   "source": [
    "Steps to calculate VaR using the variance covariance method as employed by RiskMetrics:\n",
    "Step 1 – Specify the confidence level α and construct the volatility matrix V by multiplying a\n",
    "diagonal matrix of the standard deviations of the returns of the assets in your portfolio\n",
    "(available from RiskMetrics) by the confidence interval level η of a normal distribution.\n",
    "η = Φ − 1 ( α )\n",
    "⎡ σ 1 0\n",
    "⎢ 0 σ\n",
    "2\n",
    "V = η ⎢\n",
    "⎢ 0\n",
    "⎢\n",
    "⎣ 0\n",
    "0\n",
    "0\n",
    "(5)\n",
    "0 ⎤\n",
    "0 0 ⎥ ⎥\n",
    "O 0 ⎥\n",
    "⎥\n",
    "0 σ i ⎦\n",
    "0\n",
    "(6)\n",
    "Step 2 – Using a column vector ω representing the weighting of each asset in your portfolio\n",
    "and a matrix C representing the correlation of the return each asset (available from\n",
    "RiskMetrics) we can calculate the VaR of the portfolio.\n",
    "VaR = ω T VCV ω\n",
    "(7)\n",
    "One of the reasons this method has become popular is because it is simple to calculate the\n",
    "VaR figure, as well as being easy to implement. In practice, institutions can hook in their back\n",
    "office systems to the RiskMetrics data source to obtain the volatility and correlation matrices.\n",
    "It, however, does have a few limitations. Since the confidence interval level is obtained by\n",
    "assuming the distribution of returns follows the normal distribution, as mentioned earlier,\n",
    "this may not be realistic.\n",
    "Due to the volume of data, RiskMetrics only provides volatility information for certain\n",
    "periods (eg. 1 month, 6 months, 1 year) and if an institution wishes to calculate the VaR over\n",
    "a different period then it must use a mapping function on the available data to estimate the\n",
    "volatility. In addition, since all historical information about stocks is summarised as a single\n",
    "volatility value and series of correlation values a vast amount of information is lost.\n",
    "The historical method was described using Figure 1. To briefly recap, it works by keeping a\n",
    "record of daily profit and loss of the portfolio. The VaR of the portfolio is the loss that will\n",
    "not be exceeded in α % of the cases, ie. the lower ( 1 − α )% of returns, where α is the\n",
    "confidence level. The benefit of this method is that the historical information is realistic,\n",
    "since, for example, if a major market event occurred in the past, this would be picked up\n",
    "accurately.\n",
    "\n",
    "The problem with this method is that it will not work if the portfolio composition changes\n",
    "over time. However, a historical simulation approach using the historical asset returns data\n",
    "can be used to overcome this problem. This simulation uses the current portfolio\n",
    "composition to calculate the VaR over each time period covered by the historical data using\n",
    "the historical observations of asset return values. The current VaR of the portfolio is hence\n",
    "the highest VaR of the lowest ( 1 − α )% of VaRs calculated from historical simulation\n",
    "method. The problem with this is that the historical simulation method is computationally\n",
    "intensive for large portfolios.\n",
    "The stochastic method works in the same way as the historical simulation method, but\n",
    "instead of using historical rates of returns uses a computer generated series of prices for each\n",
    "asset. More complex manners of generating the prices will provide a more accurate VaR\n",
    "figure, but will obviously take longer to compute. The method has the advantage of allowing\n",
    "users to tailor ideas about future patterns that differ from historical patterns.\n",
    "Rather than just calculating the VaR of a portfolio, we wish to use the VaR formulation as\n",
    "the objective function and aim to minimise it with respect to a portfolio of stocks. If we take\n",
    "a step back and look at the abstract mathematical definition of VaR we can specify a simple\n",
    "version of the optimisation problem as:"
   ]
  },
  {
   "cell_type": "markdown",
   "metadata": {},
   "source": [
    "## Efficient Frontier"
   ]
  },
  {
   "cell_type": "markdown",
   "metadata": {},
   "source": [
    "However, rather than just using VaR to measure the risk of institutions as a whole, it is also\n",
    "used by institutions in portfolio optimisation techniques to actively manage their risk. This is\n",
    "the focus of my project.\n",
    "Modern Portfolio Theory models the return of an asset as a random variable and a portfolio\n",
    "as a weighted combination of these assets 1 . This implies that the return of a portfolio is thus\n",
    "also a random variable and consequently has an expected value and a variance. Risk in this\n",
    "model is normally identified with the variance of portfolio return. However, for the purposes\n",
    "of my project, VaR will be used to define the risk of portfolios.\n",
    "The main problem with variance is that it does not take into consideration the direction of an\n",
    "investment's movement. An asset could be volatile because its price rises quickly, however\n",
    "investors are not distressed by gains!\n",
    "For investors, risk is about the odds of losing money, and VaR is based on that common-\n",
    "sense fact. By assuming that investors care about the odds of big losses, VaR can be used to\n",
    "answer the questions, \"What is my worst-case scenario?\" or \"How much could I lose in a\n",
    "really bad month?\"\n",
    "The VaR statistic has three components: a time period, a confidence level and a loss amount\n",
    "(or loss percentage). It can thus be used to answer question such as:\n",
    " What is the most I can (with a 95% or 99% level of confidence) expect to lose in\n",
    "pounds over the next month?\n",
    " What is the maximum percentage I can (with 95% or 99% confidence) expect to lose\n",
    "over the next year?\n",
    "Bearing this risk measure in mind, I aim to develop an application that will recommend\n",
    "rational investment decisions. Rationality is modelled by supposing that an investor choosing\n",
    "between several portfolios with identical expected returns, will prefer that portfolio which\n",
    "minimizes risk."
   ]
  }
 ],
 "metadata": {
  "kernelspec": {
   "display_name": "Python 2",
   "language": "python",
   "name": "python2"
  },
  "language_info": {
   "codemirror_mode": {
    "name": "ipython",
    "version": 2
   },
   "file_extension": ".py",
   "mimetype": "text/x-python",
   "name": "python",
   "nbconvert_exporter": "python",
   "pygments_lexer": "ipython2",
   "version": "2.7.14"
  }
 },
 "nbformat": 4,
 "nbformat_minor": 2
}
